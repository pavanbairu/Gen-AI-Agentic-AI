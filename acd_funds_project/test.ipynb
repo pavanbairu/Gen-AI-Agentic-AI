{
 "cells": [
  {
   "cell_type": "code",
   "execution_count": 2,
   "id": "6dca7e7e",
   "metadata": {},
   "outputs": [
    {
     "name": "stdout",
     "output_type": "stream",
     "text": [
      "Hello, World! 1639637795696\n",
      "Hello, Python! 1639633114608\n"
     ]
    }
   ],
   "source": [
    "my_string = \"Hello, World!\"\n",
    "print(my_string, id(my_string))  # Print the memory address of the string\n",
    "my_string = my_string.replace(\"World\", \"Python\") # (old value,new value)\n",
    "print(my_string, id(my_string))  # Print the memory address of the string"
   ]
  },
  {
   "cell_type": "code",
   "execution_count": 5,
   "id": "7cdd4806",
   "metadata": {},
   "outputs": [
    {
     "name": "stdout",
     "output_type": "stream",
     "text": [
      "[1, 2, 3, 4, 5] 1639633441600\n",
      "[1, 10, 2, 3, 4, 5] 1639633441600\n"
     ]
    }
   ],
   "source": [
    "L = [1, 2, 3, 4, 5]\n",
    "print(L, id(L))  # Print the memory address of the list\n",
    "L.insert(1, 10)  # This will not change the original list\n",
    "print(L, id(L))  # Output: [1, 2, 3, 4, 5] - original list remains unchanged\n"
   ]
  },
  {
   "cell_type": "code",
   "execution_count": 6,
   "id": "d6d137f6",
   "metadata": {},
   "outputs": [],
   "source": [
    "student = {\n",
    "'name': 'Sai',\n",
    "'age': 65,\n",
    "'grade': 'A'\n",
    "}"
   ]
  },
  {
   "cell_type": "code",
   "execution_count": 7,
   "id": "0e1e54b3",
   "metadata": {},
   "outputs": [
    {
     "data": {
      "text/plain": [
       "dict_items([('name', 'Sai'), ('age', 65), ('grade', 'A')])"
      ]
     },
     "execution_count": 7,
     "metadata": {},
     "output_type": "execute_result"
    }
   ],
   "source": [
    "student.items()"
   ]
  },
  {
   "cell_type": "code",
   "execution_count": 9,
   "id": "db8c18bc",
   "metadata": {},
   "outputs": [
    {
     "name": "stdout",
     "output_type": "stream",
     "text": [
      "name: Sai\n",
      "age: 65\n",
      "grade: A\n"
     ]
    }
   ],
   "source": [
    "for key, value in student.items():\n",
    "    print(f\"{key}: {value}\")"
   ]
  },
  {
   "cell_type": "code",
   "execution_count": 10,
   "id": "941df0ad",
   "metadata": {},
   "outputs": [
    {
     "name": "stdout",
     "output_type": "stream",
     "text": [
      "<function myfunc.<locals>.<lambda> at 0x0000017DC25DC720>\n",
      "55\n"
     ]
    }
   ],
   "source": [
    "def myfunc(n):\n",
    "    return lambda a : a * n\n",
    "\n",
    "\n",
    "mult = myfunc(5)\n",
    "print(mult)\n",
    "print(mult(11))"
   ]
  },
  {
   "cell_type": "code",
   "execution_count": 11,
   "id": "92b85996",
   "metadata": {},
   "outputs": [
    {
     "name": "stdout",
     "output_type": "stream",
     "text": [
      "4\n"
     ]
    }
   ],
   "source": [
    "class Demo():\n",
    "    def __init__(self,a,b):\n",
    "        self.__a = a # Private\n",
    "        self._b = b # PRotected\n",
    "        # print(self.__a)\n",
    "class Demo1(Demo):\n",
    "    def output(self):\n",
    "        print(self._b)\n",
    "    \n",
    "d = Demo1(3,4)\n",
    "d.output()"
   ]
  },
  {
   "cell_type": "code",
   "execution_count": 17,
   "id": "5e1db6f0",
   "metadata": {},
   "outputs": [
    {
     "name": "stdout",
     "output_type": "stream",
     "text": [
      "[False, True, False, True, False]\n"
     ]
    }
   ],
   "source": [
    "l = [1, 2, 3, 4, 5]\n",
    "\n",
    "m = map(lambda x: x % 2 ==0, l)\n",
    "print(list(m))  # Output: [2, 4, 6, 8"
   ]
  },
  {
   "cell_type": "code",
   "execution_count": 19,
   "id": "119bbd63",
   "metadata": {},
   "outputs": [
    {
     "name": "stdout",
     "output_type": "stream",
     "text": [
      "[2, 4]\n"
     ]
    }
   ],
   "source": [
    "a = filter(lambda x: x %2==0 , l)\n",
    "print(list(a))  # Output: [7, 8, 9, 10]"
   ]
  },
  {
   "cell_type": "code",
   "execution_count": null,
   "id": "5fac9697",
   "metadata": {},
   "outputs": [],
   "source": []
  }
 ],
 "metadata": {
  "kernelspec": {
   "display_name": "base",
   "language": "python",
   "name": "python3"
  },
  "language_info": {
   "codemirror_mode": {
    "name": "ipython",
    "version": 3
   },
   "file_extension": ".py",
   "mimetype": "text/x-python",
   "name": "python",
   "nbconvert_exporter": "python",
   "pygments_lexer": "ipython3",
   "version": "3.12.1"
  }
 },
 "nbformat": 4,
 "nbformat_minor": 5
}
