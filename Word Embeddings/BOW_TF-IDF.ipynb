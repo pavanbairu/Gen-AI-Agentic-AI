{
 "cells": [
  {
   "cell_type": "code",
   "execution_count": 1,
   "metadata": {},
   "outputs": [],
   "source": [
    "from sklearn.feature_extraction.text import CountVectorizer"
   ]
  },
  {
   "cell_type": "code",
   "execution_count": 26,
   "metadata": {},
   "outputs": [],
   "source": [
    "# List of AI-related sentences\n",
    "sentences = [\n",
    "    \"Artificial intelligence, or AI, is changing the world of AI technology.\",\n",
    "    \"Machine learning is a subset of AI that focuses on machine learning algorithms.\",\n",
    "    \"Natural language processing, or NLP, is a key area of AI that deals with human language.\",\n",
    "]"
   ]
  },
  {
   "cell_type": "code",
   "execution_count": 27,
   "metadata": {},
   "outputs": [],
   "source": [
    "vectorizer = CountVectorizer()"
   ]
  },
  {
   "cell_type": "code",
   "execution_count": 28,
   "metadata": {},
   "outputs": [],
   "source": [
    "vectorized_sentences = vectorizer.fit_transform(sentences)"
   ]
  },
  {
   "cell_type": "code",
   "execution_count": 29,
   "metadata": {},
   "outputs": [
    {
     "data": {
      "text/plain": [
       "array(['ai', 'algorithms', 'area', 'artificial', 'changing', 'deals',\n",
       "       'focuses', 'human', 'intelligence', 'is', 'key', 'language',\n",
       "       'learning', 'machine', 'natural', 'nlp', 'of', 'on', 'or',\n",
       "       'processing', 'subset', 'technology', 'that', 'the', 'with',\n",
       "       'world'], dtype=object)"
      ]
     },
     "execution_count": 29,
     "metadata": {},
     "output_type": "execute_result"
    }
   ],
   "source": [
    "feature_names = vectorizer.get_feature_names_out()\n",
    "feature_names"
   ]
  },
  {
   "cell_type": "code",
   "execution_count": 30,
   "metadata": {},
   "outputs": [
    {
     "data": {
      "text/plain": [
       "array([[2, 0, 0, 1, 1, 0, 0, 0, 1, 1, 0, 0, 0, 0, 0, 0, 1, 0, 1, 0, 0, 1,\n",
       "        0, 1, 0, 1],\n",
       "       [1, 1, 0, 0, 0, 0, 1, 0, 0, 1, 0, 0, 2, 2, 0, 0, 1, 1, 0, 0, 1, 0,\n",
       "        1, 0, 0, 0],\n",
       "       [1, 0, 1, 0, 0, 1, 0, 1, 0, 1, 1, 2, 0, 0, 1, 1, 1, 0, 1, 1, 0, 0,\n",
       "        1, 0, 1, 0]], dtype=int64)"
      ]
     },
     "execution_count": 30,
     "metadata": {},
     "output_type": "execute_result"
    }
   ],
   "source": [
    "vectorized_array = vectorized_sentences.toarray()\n",
    "vectorized_array"
   ]
  },
  {
   "cell_type": "code",
   "execution_count": 31,
   "metadata": {},
   "outputs": [],
   "source": [
    "from sklearn.feature_extraction.text import TfidfVectorizer"
   ]
  },
  {
   "cell_type": "code",
   "execution_count": 36,
   "metadata": {},
   "outputs": [],
   "source": [
    "sentences = [\n",
    "\"Artificial intelligence is the future of technology.\",\n",
    "\"Machine learning is a subset of artificial intelligence.\",\n",
    "\"The future of technology is driven by artificial intelligence and machine learning.\"\n",
    "]"
   ]
  },
  {
   "cell_type": "code",
   "execution_count": 37,
   "metadata": {},
   "outputs": [],
   "source": [
    "tfidf = TfidfVectorizer()"
   ]
  },
  {
   "cell_type": "code",
   "execution_count": 38,
   "metadata": {},
   "outputs": [
    {
     "data": {
      "text/plain": [
       "array([[0.        , 0.33380888, 0.        , 0.        , 0.42983971,\n",
       "        0.33380888, 0.33380888, 0.        , 0.        , 0.33380888,\n",
       "        0.        , 0.42983971, 0.42983971],\n",
       "       [0.        , 0.31337344, 0.        , 0.        , 0.        ,\n",
       "        0.31337344, 0.31337344, 0.40352536, 0.40352536, 0.31337344,\n",
       "        0.53058735, 0.        , 0.        ],\n",
       "       [0.3704388 , 0.21878712, 0.3704388 , 0.3704388 , 0.28172826,\n",
       "        0.21878712, 0.21878712, 0.28172826, 0.28172826, 0.21878712,\n",
       "        0.        , 0.28172826, 0.28172826]])"
      ]
     },
     "execution_count": 38,
     "metadata": {},
     "output_type": "execute_result"
    }
   ],
   "source": [
    "tfidf_vectorized = tfidf.fit_transform(sentences)\n",
    "tfidf_vectorized.toarray()"
   ]
  },
  {
   "cell_type": "code",
   "execution_count": 39,
   "metadata": {},
   "outputs": [
    {
     "data": {
      "text/plain": [
       "array(['and', 'artificial', 'by', 'driven', 'future', 'intelligence',\n",
       "       'is', 'learning', 'machine', 'of', 'subset', 'technology', 'the'],\n",
       "      dtype=object)"
      ]
     },
     "execution_count": 39,
     "metadata": {},
     "output_type": "execute_result"
    }
   ],
   "source": [
    "tfidf.get_feature_names_out()"
   ]
  },
  {
   "cell_type": "code",
   "execution_count": null,
   "metadata": {},
   "outputs": [],
   "source": []
  }
 ],
 "metadata": {
  "kernelspec": {
   "display_name": "base",
   "language": "python",
   "name": "python3"
  },
  "language_info": {
   "codemirror_mode": {
    "name": "ipython",
    "version": 3
   },
   "file_extension": ".py",
   "mimetype": "text/x-python",
   "name": "python",
   "nbconvert_exporter": "python",
   "pygments_lexer": "ipython3",
   "version": "3.12.1"
  }
 },
 "nbformat": 4,
 "nbformat_minor": 2
}
